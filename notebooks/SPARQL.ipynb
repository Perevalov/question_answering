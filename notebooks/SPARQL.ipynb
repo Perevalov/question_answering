{
 "cells": [
  {
   "cell_type": "code",
   "execution_count": 1,
   "metadata": {},
   "outputs": [],
   "source": [
    "import sys, json\n",
    "sys.path.append('../freebase_api')\n",
    "import GstoreConnector\n",
    "import datalib\n",
    "import unidecode\n",
    "import tqdm"
   ]
  },
  {
   "cell_type": "code",
   "execution_count": 2,
   "metadata": {},
   "outputs": [],
   "source": [
    "def load_entities(data):\n",
    "    entities = []\n",
    "\n",
    "    for i in range(len(data)):\n",
    "        for j in range(len(data[i]['entities'])):\n",
    "            if data[i]['entities'][j][0] not in entities:\n",
    "                entities.append(data[i]['entities'][j][0])\n",
    "                \n",
    "    return entities\n",
    "\n",
    "def load_answers(data):\n",
    "    answers = []\n",
    "    \n",
    "    for i in range(len(data)):\n",
    "        for j in range(len(data[i]['answers'])):\n",
    "            if data[i]['answers'][j][0] not in answers:\n",
    "                answers.append(unidecode.unidecode(data[i]['answers'][j]))\n",
    "    \n",
    "    return answers\n",
    "\n",
    "def sparql_filter(labels):\n",
    "        \"\"\" generate sparql WHERE{} sub-query that keeps just the values in labels \"\"\"\n",
    "\n",
    "        value_filter = ['STRLANG(\"' + l.lower() + '\", \"en\")' for l in labels]\n",
    "        sparql_filter = '''FILTER(LCASE(?value) IN (''' + ', '.join(value_filter) + '''))'''\n",
    "        return sparql_filter"
   ]
  },
  {
   "cell_type": "code",
   "execution_count": 3,
   "metadata": {},
   "outputs": [],
   "source": [
    "main_data = []\n",
    "with open('../data/main/trainmodel.json', 'r') as f:\n",
    "    main_data = json.load(f)"
   ]
  },
  {
   "cell_type": "code",
   "execution_count": 4,
   "metadata": {},
   "outputs": [],
   "source": [
    "answers = load_answers(main_data)"
   ]
  },
  {
   "cell_type": "code",
   "execution_count": 5,
   "metadata": {},
   "outputs": [
    {
     "data": {
      "text/plain": [
       "'New Moon'"
      ]
     },
     "execution_count": 5,
     "metadata": {},
     "output_type": "execute_result"
    }
   ],
   "source": [
    "answers[40]"
   ]
  },
  {
   "cell_type": "code",
   "execution_count": 3,
   "metadata": {},
   "outputs": [],
   "source": [
    "#set the access username and password\n",
    "username = \"endpoint\"\n",
    "password = \"123\""
   ]
  },
  {
   "cell_type": "code",
   "execution_count": 4,
   "metadata": {},
   "outputs": [],
   "source": [
    "# start a gStoreConnector with given IP and Port\n",
    "gc = GstoreConnector.GstoreConnector(\"freebase.gstore-pku.com\", 80)"
   ]
  },
  {
   "cell_type": "code",
   "execution_count": 9,
   "metadata": {},
   "outputs": [],
   "source": [
    "mids = {}"
   ]
  },
  {
   "cell_type": "code",
   "execution_count": 10,
   "metadata": {},
   "outputs": [
    {
     "name": "stderr",
     "output_type": "stream",
     "text": [
      "100%|██████████| 6668/6668 [37:19<00:00,  3.10it/s]  \n"
     ]
    }
   ],
   "source": [
    "for answer in tqdm.tqdm(answers):\n",
    "    sparql = \"\"\"PREFIX rdfs: <http://www.w3.org/2000/01/rdf-schema#>\n",
    "                select ?s where \n",
    "                { \n",
    "                    ?s ?rel \"%s\"@en . \n",
    "                }\n",
    "                LIMIT 1\"\"\" %(answer)\n",
    "    # do query (you will get the result in json format)\n",
    "    res = json.loads(gc.query(username, password, \"freebase\", sparql))\n",
    "    if 'results' in res.keys() and len(res['results']['bindings']) > 0:\n",
    "        mids[answer] = res['results']['bindings'][0]['s']['value']"
   ]
  },
  {
   "cell_type": "code",
   "execution_count": 11,
   "metadata": {},
   "outputs": [],
   "source": [
    "with open('../data/answer_mids.json', 'w') as fp:\n",
    "    json.dump(mids, fp)"
   ]
  },
  {
   "cell_type": "code",
   "execution_count": 5,
   "metadata": {},
   "outputs": [],
   "source": [
    "mids = {}\n",
    "with open('../data/answer_mids.json') as f:\n",
    "    mids = json.load(f)"
   ]
  },
  {
   "cell_type": "code",
   "execution_count": 6,
   "metadata": {},
   "outputs": [
    {
     "name": "stderr",
     "output_type": "stream",
     "text": [
      "100%|██████████| 4351/4351 [1:07:39<00:00,  1.06s/it]\n"
     ]
    }
   ],
   "source": [
    "for name,mid in tqdm.tqdm(mids.items()):\n",
    "    sparql = \"\"\"PREFIX rdfs: <http://www.w3.org/2000/01/rdf-schema#>\n",
    "\n",
    "    SELECT ?val WHERE {\n",
    "        <%s> ?rel ?val .\n",
    "        MINUS {\n",
    "             <%s> <http://www.w3.org/2000/01/rdf-schema#label> ?val .\n",
    "\n",
    "           }\n",
    "    } LIMIT 500\"\"\" %(mid,mid)\n",
    "\n",
    "    # do query (you will get the result in json format)\n",
    "    entities = []\n",
    "    \n",
    "    res = json.loads(gc.query(username, password, \"freebase\", sparql))\n",
    "    \n",
    "    if 'results' in res.keys() and len(res['results']['bindings']) > 0:\n",
    "        for b in res['results']['bindings']:\n",
    "            if 'freebase' in b['val']['value']:\n",
    "                entities.append(b['val']['value'])\n",
    "    \n",
    "    if len(name) < 200:\n",
    "        with open('../data/answer-entities/{0}.txt'.format(name.replace(\"/\",\"--\")),'w') as f:\n",
    "            for e in entities:\n",
    "                f.write(\"{0}\\n\".format(e))"
   ]
  },
  {
   "cell_type": "markdown",
   "metadata": {},
   "source": [
    "#### Для каждого answer делаем запрос на сущность, получаем ИД, и по этому ИД делаем запрос на связанные сущности за исключением лейбла. Полученные данные сохраняем в отдельный файл для отдельного answer. Затем, загружаем answers как матрицу и засовываем в BOW/TF-IDF"
   ]
  }
 ],
 "metadata": {
  "kernelspec": {
   "display_name": "Python 3",
   "language": "python",
   "name": "python3"
  },
  "language_info": {
   "codemirror_mode": {
    "name": "ipython",
    "version": 3
   },
   "file_extension": ".py",
   "mimetype": "text/x-python",
   "name": "python",
   "nbconvert_exporter": "python",
   "pygments_lexer": "ipython3",
   "version": "3.6.4"
  }
 },
 "nbformat": 4,
 "nbformat_minor": 2
}
