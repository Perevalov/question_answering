{
 "cells": [
  {
   "cell_type": "code",
   "execution_count": 4,
   "metadata": {},
   "outputs": [],
   "source": [
    "import pandas as pd\n",
    "import json, re, os, unidecode\n",
    "\n",
    "from gensim.models import Word2Vec\n",
    "\n",
    "from sklearn.feature_extraction.text import CountVectorizer\n",
    "\n",
    "from keras.models import Model\n",
    "from keras.layers import Dense, Conv1D, GlobalMaxPooling1D, Embedding, Input, Lambda, Add\n",
    "from keras.utils.vis_utils import plot_model\n",
    "import keras.backend as K\n",
    "\n",
    "from keras.preprocessing.text import Tokenizer\n",
    "from keras.preprocessing.sequence import pad_sequences\n",
    "\n",
    "import matplotlib.pyplot as plt\n",
    "\n",
    "import tensorflow as tf\n",
    "\n",
    "import numpy as np\n",
    "\n",
    "from sklearn.neighbors import NearestNeighbors\n",
    "\n",
    "import sys, json\n",
    "sys.path.append('../freebase_api')\n",
    "import GstoreConnector\n",
    "import datalib\n",
    "import unidecode\n",
    "import tqdm\n",
    "\n",
    "embeddings_dim = 50\n",
    "\n",
    "#set the access username and password\n",
    "username = \"endpoint\"\n",
    "password = \"123\"\n",
    "\n",
    "# start a gStoreConnector with given IP and Port\n",
    "gc = GstoreConnector.GstoreConnector(\"freebase.gstore-pku.com\", 80)"
   ]
  },
  {
   "cell_type": "markdown",
   "metadata": {},
   "source": [
    "# 1. Делаем запрос на 1-hop сущности (лейблы), запоминаем путь, mid\n",
    "# 2. Ищем по лейблам наличие в файлах, если есть, добавляем\n",
    "# 3. Делаем запрос на контекст каждой из добавленных сущностей\n",
    "# 4. Кодируем по пути и контексту\n",
    "# 5. Выявляем лучшие ответы и выводим"
   ]
  },
  {
   "cell_type": "code",
   "execution_count": 13,
   "metadata": {},
   "outputs": [],
   "source": [
    "mid = \"http://rdf.freebase.com/ns/m.027nwk2\"\n",
    "sparql =\"\"\"PREFIX rdfs: <http://www.w3.org/2000/01/rdf-schema#>\n",
    "\n",
    "                SELECT ?rel ?val  ?vallabel WHERE {\n",
    "\n",
    "                    <\"\"\"+mid+\"\"\"> ?rel ?val .\n",
    "                    ?val rdfs:label ?vallabel .\n",
    "                    FILTER(lang(?vallabel) = 'en') .\n",
    "                    FILTER(ISURI(?val))\n",
    "                }\"\"\""
   ]
  },
  {
   "cell_type": "code",
   "execution_count": 14,
   "metadata": {},
   "outputs": [],
   "source": [
    "res = json.loads(gc.query(username, password, \"freebase\", sparql))"
   ]
  },
  {
   "cell_type": "code",
   "execution_count": 15,
   "metadata": {},
   "outputs": [],
   "source": [
    "candidates = {}\n",
    "for b in res['results']['bindings']:\n",
    "    candidates[b['vallabel']['value']] = (b['rel']['value'],b['val']['value'])"
   ]
  },
  {
   "cell_type": "code",
   "execution_count": 19,
   "metadata": {},
   "outputs": [],
   "source": [
    "cands = []\n",
    "for i in os.listdir(\"/home/alex/question_answering/data/answer-entities\"):\n",
    "    for j in list(candidates.keys()):\n",
    "        if j in i and j not in cands:\n",
    "            cands.append(j)"
   ]
  },
  {
   "cell_type": "code",
   "execution_count": 20,
   "metadata": {},
   "outputs": [
    {
     "data": {
      "text/plain": [
       "['Canada',\n",
       " 'Person',\n",
       " 'Gymnast',\n",
       " 'Female',\n",
       " 'French',\n",
       " 'Children',\n",
       " 'English Language',\n",
       " 'Actor',\n",
       " 'Model',\n",
       " 'Celebrity',\n",
       " 'Bulgaria',\n",
       " 'Sofia']"
      ]
     },
     "execution_count": 20,
     "metadata": {},
     "output_type": "execute_result"
    }
   ],
   "source": [
    "cands"
   ]
  },
  {
   "cell_type": "code",
   "execution_count": null,
   "metadata": {},
   "outputs": [],
   "source": [
    "cand_context = {}\n",
    "for a in cands:\n",
    "    with open('/home/alex/question_answering/data/answer-entities/{0}.txt'.format(unidecode.unidecode(a))) as f:\n",
    "        cand_context[a] = f.readlines()"
   ]
  }
 ],
 "metadata": {
  "kernelspec": {
   "display_name": "Python 3",
   "language": "python",
   "name": "python3"
  },
  "language_info": {
   "codemirror_mode": {
    "name": "ipython",
    "version": 3
   },
   "file_extension": ".py",
   "mimetype": "text/x-python",
   "name": "python",
   "nbconvert_exporter": "python",
   "pygments_lexer": "ipython3",
   "version": "3.6.4"
  }
 },
 "nbformat": 4,
 "nbformat_minor": 2
}
