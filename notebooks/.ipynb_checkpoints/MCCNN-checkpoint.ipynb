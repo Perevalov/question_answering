{
 "cells": [
  {
   "cell_type": "markdown",
   "metadata": {},
   "source": [
    "## Импортим необходимые библиотеки"
   ]
  },
  {
   "cell_type": "code",
   "execution_count": 1,
   "metadata": {},
   "outputs": [
    {
     "name": "stderr",
     "output_type": "stream",
     "text": [
      "/home/alex/miniconda3/lib/python3.6/site-packages/h5py/__init__.py:36: FutureWarning: Conversion of the second argument of issubdtype from `float` to `np.floating` is deprecated. In future, it will be treated as `np.float64 == np.dtype(float).type`.\n",
      "  from ._conv import register_converters as _register_converters\n",
      "Using TensorFlow backend.\n",
      "/home/alex/miniconda3/lib/python3.6/importlib/_bootstrap.py:219: RuntimeWarning: numpy.dtype size changed, may indicate binary incompatibility. Expected 96, got 88\n",
      "  return f(*args, **kwds)\n",
      "/home/alex/miniconda3/lib/python3.6/importlib/_bootstrap.py:219: RuntimeWarning: numpy.dtype size changed, may indicate binary incompatibility. Expected 96, got 88\n",
      "  return f(*args, **kwds)\n"
     ]
    }
   ],
   "source": [
    "import json, re\n",
    "\n",
    "from gensim.models import Word2Vec\n",
    "\n",
    "from sklearn.feature_extraction.text import CountVectorizer\n",
    "\n",
    "from keras.models import Model\n",
    "from keras.layers import Dense, Conv1D, GlobalMaxPooling1D, Embedding, Input, Lambda\n",
    "from keras.utils.vis_utils import plot_model\n",
    "import keras.backend as K\n",
    "\n",
    "from keras.preprocessing.text import Tokenizer\n",
    "from keras.preprocessing.sequence import pad_sequences\n",
    "\n",
    "import matplotlib.pyplot as plt\n",
    "\n",
    "import tensorflow as tf\n",
    "\n",
    "import numpy as np\n",
    "\n",
    "from sklearn.neighbors import NearestNeighbors\n",
    "\n",
    "embeddings_dim = 50"
   ]
  },
  {
   "cell_type": "markdown",
   "metadata": {},
   "source": [
    "## Читаем вопросы из файла"
   ]
  },
  {
   "cell_type": "code",
   "execution_count": 2,
   "metadata": {},
   "outputs": [],
   "source": [
    "q_data = []\n",
    "with open('../data/main/trainmodel.json') as json_file:  \n",
    "    q_data = json.load(json_file)\n",
    "    \n",
    "questions = []\n",
    "for q in q_data:\n",
    "    questions.append(re.sub('[!@#$?]', '', q[\"qText\"]))"
   ]
  },
  {
   "cell_type": "markdown",
   "metadata": {},
   "source": [
    "## Анализируем текстовые данные"
   ]
  },
  {
   "cell_type": "code",
   "execution_count": 3,
   "metadata": {},
   "outputs": [
    {
     "name": "stdout",
     "output_type": "stream",
     "text": [
      "3172 уникальных токенов.\n"
     ]
    }
   ],
   "source": [
    "tokenizer = Tokenizer()\n",
    "tokenizer.fit_on_texts(questions)\n",
    "\n",
    "sequences = tokenizer.texts_to_sequences(questions)\n",
    "sequences_lenghts = np.array(list(map(lambda x: len(x), sequences)))\n",
    "\n",
    "word_index = tokenizer.word_index\n",
    "number_of_words = len(word_index)\n",
    "print('{0} уникальных токенов.'.format(len(word_index)))"
   ]
  },
  {
   "cell_type": "code",
   "execution_count": 4,
   "metadata": {},
   "outputs": [
    {
     "data": {
      "image/png": "[encoded data removed]",
      "text/plain": [
       "<Figure size 1440x576 with 1 Axes>"
      ]
     },
     "metadata": {},
     "output_type": "display_data"
    }
   ],
   "source": [
    "plt.figure(figsize=(20, 8))\n",
    "\n",
    "plt.subplot(121)\n",
    "plt.bar(*np.unique(sequences_lenghts, return_counts=True), edgecolor=\"k\")\n",
    "plt.axvline(np.mean(sequences_lenghts), \n",
    "            c=\"r\", lw=3, \n",
    "            label=\"Средняя длина = {:.2f}\".format(np.mean(sequences_lenghts)))\n",
    "plt.axvline(np.percentile(sequences_lenghts, 95), \n",
    "            c=\"m\", lw=3, \n",
    "            label=\"95%-перцентиль = {:.2f}\".format(np.percentile(sequences_lenghts, 95)))\n",
    "plt.xlabel(\"Длина\")\n",
    "plt.ylabel(\"Количество вопросов\")\n",
    "plt.title(\"Распределение длин вопросов\")\n",
    "plt.legend()\n",
    "\n",
    "cut_length = np.round(np.percentile(sequences_lenghts, 95),0)"
   ]
  },
  {
   "cell_type": "markdown",
   "metadata": {},
   "source": [
    "## Строим векторные представления вопросов"
   ]
  },
  {
   "cell_type": "code",
   "execution_count": 5,
   "metadata": {},
   "outputs": [
    {
     "name": "stderr",
     "output_type": "stream",
     "text": [
      "/home/alex/miniconda3/lib/python3.6/site-packages/ipykernel_launcher.py:3: DeprecationWarning: Call to deprecated `most_similar` (Method will be removed in 4.0.0, use self.wv.most_similar() instead).\n",
      "  This is separate from the ipykernel package so we can avoid doing imports until\n",
      "/home/alex/miniconda3/lib/python3.6/site-packages/gensim/matutils.py:737: FutureWarning: Conversion of the second argument of issubdtype from `int` to `np.signedinteger` is deprecated. In future, it will be treated as `np.int64 == np.dtype(int).type`.\n",
      "  if np.issubdtype(vec.dtype, np.int):\n"
     ]
    },
    {
     "data": {
      "text/plain": [
       "[('was', 0.7051377296447754),\n",
       " ('are', 0.5893619060516357),\n",
       " ('does', 0.400970458984375),\n",
       " ('sith', 0.35755765438079834),\n",
       " ('revenge', 0.35489749908447266),\n",
       " ('did', 0.35324427485466003),\n",
       " ('wore', 0.34757810831069946),\n",
       " ('plays', 0.34129276871681213),\n",
       " ('twice', 0.33817264437675476),\n",
       " ('suit', 0.33579927682876587)]"
      ]
     },
     "execution_count": 5,
     "metadata": {},
     "output_type": "execute_result"
    }
   ],
   "source": [
    "model = Word2Vec([q.split() for q in questions], size=embeddings_dim, window=10,min_count=1)\n",
    "model.train([q.split() for q in questions],epochs=1000,total_examples=model.corpus_count)\n",
    "model.most_similar(\"is\")"
   ]
  },
  {
   "cell_type": "code",
   "execution_count": 6,
   "metadata": {},
   "outputs": [
    {
     "name": "stdout",
     "output_type": "stream",
     "text": [
      "Размерность тренировочных данных: (2834, 9)\n"
     ]
    }
   ],
   "source": [
    "q_vectors = pad_sequences(sequences, maxlen=int(cut_length))\n",
    "print('Размерность тренировочных данных:', q_vectors.shape)"
   ]
  },
  {
   "cell_type": "code",
   "execution_count": 7,
   "metadata": {},
   "outputs": [
    {
     "name": "stderr",
     "output_type": "stream",
     "text": [
      "/home/alex/miniconda3/lib/python3.6/site-packages/ipykernel_launcher.py:4: DeprecationWarning: Call to deprecated `__getitem__` (Method will be removed in 4.0.0, use self.wv.__getitem__() instead).\n",
      "  after removing the cwd from sys.path.\n"
     ]
    }
   ],
   "source": [
    "embedding_matrix = np.zeros((len(word_index) + 1, embeddings_dim))\n",
    "for word, i in word_index.items():\n",
    "    if word in model.wv.vocab:\n",
    "        embedding_matrix[i] = model[word]"
   ]
  },
  {
   "cell_type": "markdown",
   "metadata": {},
   "source": [
    "## Анализируем графовые данные"
   ]
  },
  {
   "cell_type": "code",
   "execution_count": 8,
   "metadata": {},
   "outputs": [],
   "source": [
    "data = ''\n",
    "with open('../data/d-freebase-rp/trainmodel.json') as json_file:  \n",
    "    data = json.load(json_file)"
   ]
  },
  {
   "cell_type": "code",
   "execution_count": 9,
   "metadata": {},
   "outputs": [],
   "source": [
    "rels = []\n",
    "for q in data:\n",
    "    q_rels = \"\"\n",
    "    for paths in q['relPaths']:\n",
    "        for rel in paths[0]:\n",
    "            q_rels+= rel+\" \"\n",
    "    rels.append(str(q_rels))"
   ]
  },
  {
   "cell_type": "code",
   "execution_count": 10,
   "metadata": {},
   "outputs": [
    {
     "name": "stdout",
     "output_type": "stream",
     "text": [
      "Количество уникальных связей = 633\n",
      "Размерность матрицы связей = (2834, 633)\n"
     ]
    }
   ],
   "source": [
    "countVec = CountVectorizer(token_pattern=r\"[^\\s]*\")\n",
    "path_vectors = countVec.fit_transform(rels)\n",
    "n_unique_relations = len(countVec.vocabulary_)\n",
    "print(\"Количество уникальных связей = {0}\".format(n_unique_relations))\n",
    "print(\"Размерность матрицы связей = {0}\".format(path_vectors.shape))"
   ]
  },
  {
   "cell_type": "markdown",
   "metadata": {},
   "source": [
    "## Строим модель"
   ]
  },
  {
   "cell_type": "code",
   "execution_count": 11,
   "metadata": {},
   "outputs": [],
   "source": [
    "q1_input = Input(shape=(cut_length,), \n",
    "                dtype=\"int32\", \n",
    "                name=\"QInput\")\n",
    "\n",
    "aPath_input = Input(shape=(n_unique_relations,), \n",
    "                dtype=\"float32\", \n",
    "                name=\"AInput\")"
   ]
  },
  {
   "cell_type": "code",
   "execution_count": 12,
   "metadata": {},
   "outputs": [],
   "source": [
    "_embedding_layer = Embedding(input_dim=number_of_words + 1,\n",
    "                             output_dim=embeddings_dim,\n",
    "                             input_length=cut_length,\n",
    "                             weights=[embedding_matrix],\n",
    "                             trainable=True,\n",
    "                             mask_zero=False, \n",
    "                             name=\"Embedding\")\n",
    "_conv1d_layer = Conv1D(embeddings_dim,\n",
    "                       5,\n",
    "                       activation='relu')\n",
    "\n",
    "_maxpool1d_layer = GlobalMaxPooling1D()\n",
    "\n",
    "_dense_layer = Dense(embeddings_dim, input_dim=n_unique_relations+1, activation='relu')"
   ]
  },
  {
   "cell_type": "code",
   "execution_count": 13,
   "metadata": {},
   "outputs": [
    {
     "name": "stdout",
     "output_type": "stream",
     "text": [
      "WARNING:tensorflow:From /home/alex/miniconda3/lib/python3.6/site-packages/tensorflow/python/util/deprecation.py:497: calling conv1d (from tensorflow.python.ops.nn_ops) with data_format=NHWC is deprecated and will be removed in a future version.\n",
      "Instructions for updating:\n",
      "`NHWC` for data_format is deprecated, use `NWC` instead\n"
     ]
    }
   ],
   "source": [
    "q1_embedding = _embedding_layer(q1_input)\n",
    "q1_conv = _conv1d_layer(q1_embedding)\n",
    "q1_maxpool = _maxpool1d_layer(q1_conv)"
   ]
  },
  {
   "cell_type": "code",
   "execution_count": 14,
   "metadata": {},
   "outputs": [],
   "source": [
    "aPath_dense = _dense_layer(aPath_input)"
   ]
  },
  {
   "cell_type": "code",
   "execution_count": 15,
   "metadata": {},
   "outputs": [],
   "source": [
    "def L2_norm(x):\n",
    "    return K.l2_normalize(x, axis=1)"
   ]
  },
  {
   "cell_type": "code",
   "execution_count": 16,
   "metadata": {},
   "outputs": [],
   "source": [
    "q1_normalized = Lambda(function=L2_norm, name=\"QL2norm\")(q1_maxpool)\n",
    "aPath_normalized = Lambda(function=L2_norm, name=\"AL2norm\")(aPath_dense)"
   ]
  },
  {
   "cell_type": "code",
   "execution_count": 17,
   "metadata": {},
   "outputs": [],
   "source": [
    "def triplet_loss(args):\n",
    "    \n",
    "    q, a = args\n",
    "    \n",
    "    def _get_probs():\n",
    "        # easy negative sampling, i.e. take random from batch\n",
    "        batch_size = tf.shape(a)[0]\n",
    "        probs = tf.ones((batch_size, batch_size)) - tf.eye(batch_size, batch_size)\n",
    "        return probs\n",
    "    \n",
    "    def _get_distance(batch1, batch2):\n",
    "        return 1 - tf.reduce_sum(tf.multiply(batch1, batch2), axis=1)\n",
    "    \n",
    "    # margin\n",
    "    alpha = 0.2\n",
    "    \n",
    "    # negative sampling\n",
    "    probs = _get_probs()\n",
    "    probs /= tf.reduce_sum(probs, axis=1)\n",
    "    \n",
    "    negative_idxs = tf.multinomial(tf.log(probs), 1)\n",
    "    negs = tf.gather(a, negative_idxs)[:, 0]\n",
    "    \n",
    "    # distance calculation\n",
    "    Dn = _get_distance(q, negs)\n",
    "    Dp = _get_distance(q, a)\n",
    "    \n",
    "    # loss\n",
    "    loss = tf.reduce_mean(tf.maximum(0.0, Dp - Dn + alpha))\n",
    "    \n",
    "    return loss"
   ]
  },
  {
   "cell_type": "code",
   "execution_count": 18,
   "metadata": {},
   "outputs": [],
   "source": [
    "loss_layer = Lambda(function=triplet_loss, name=\"Loss\")([q1_normalized, aPath_normalized])"
   ]
  },
  {
   "cell_type": "code",
   "execution_count": 19,
   "metadata": {},
   "outputs": [],
   "source": [
    "model = Model(inputs=[q1_input, aPath_input], outputs=[loss_layer])"
   ]
  },
  {
   "cell_type": "code",
   "execution_count": 20,
   "metadata": {},
   "outputs": [],
   "source": [
    "def dummy_loss(y_true, y_pred):\n",
    "    return y_pred"
   ]
  },
  {
   "cell_type": "code",
   "execution_count": 21,
   "metadata": {},
   "outputs": [
    {
     "name": "stdout",
     "output_type": "stream",
     "text": [
      "__________________________________________________________________________________________________\n",
      "Layer (type)                    Output Shape         Param #     Connected to                     \n",
      "==================================================================================================\n",
      "QInput (InputLayer)             (None, 9.0)          0                                            \n",
      "__________________________________________________________________________________________________\n",
      "Embedding (Embedding)           (None, 9.0, 50)      158650      QInput[0][0]                     \n",
      "__________________________________________________________________________________________________\n",
      "conv1d_1 (Conv1D)               (None, 5.0, 50)      12550       Embedding[0][0]                  \n",
      "__________________________________________________________________________________________________\n",
      "AInput (InputLayer)             (None, 633)          0                                            \n",
      "__________________________________________________________________________________________________\n",
      "global_max_pooling1d_1 (GlobalM (None, 50)           0           conv1d_1[0][0]                   \n",
      "__________________________________________________________________________________________________\n",
      "dense_1 (Dense)                 (None, 50)           31700       AInput[0][0]                     \n",
      "__________________________________________________________________________________________________\n",
      "QL2norm (Lambda)                (None, 50)           0           global_max_pooling1d_1[0][0]     \n",
      "__________________________________________________________________________________________________\n",
      "AL2norm (Lambda)                (None, 50)           0           dense_1[0][0]                    \n",
      "__________________________________________________________________________________________________\n",
      "Loss (Lambda)                   ()                   0           QL2norm[0][0]                    \n",
      "                                                                 AL2norm[0][0]                    \n",
      "==================================================================================================\n",
      "Total params: 202,900\n",
      "Trainable params: 202,900\n",
      "Non-trainable params: 0\n",
      "__________________________________________________________________________________________________\n"
     ]
    }
   ],
   "source": [
    "model.compile(loss=dummy_loss, optimizer=\"Adam\")\n",
    "model.summary()"
   ]
  },
  {
   "cell_type": "code",
   "execution_count": 22,
   "metadata": {},
   "outputs": [],
   "source": [
    "plot_model(model, to_file='model_plot.png', show_shapes=True, show_layer_names=True)"
   ]
  },
  {
   "cell_type": "markdown",
   "metadata": {},
   "source": [
    "## Обучаем модель"
   ]
  },
  {
   "cell_type": "code",
   "execution_count": 35,
   "metadata": {},
   "outputs": [
    {
     "name": "stdout",
     "output_type": "stream",
     "text": [
      "Epoch 1/25\n",
      "2834/2834 [==============================] - 0s 150us/step - loss: 0.0144\n",
      "Epoch 2/25\n",
      "2834/2834 [==============================] - 0s 141us/step - loss: 0.0158\n",
      "Epoch 3/25\n",
      "2834/2834 [==============================] - 0s 143us/step - loss: 0.0152\n",
      "Epoch 4/25\n",
      "2834/2834 [==============================] - 0s 140us/step - loss: 0.0147\n",
      "Epoch 5/25\n",
      "2834/2834 [==============================] - 0s 139us/step - loss: 0.0139\n",
      "Epoch 6/25\n",
      "2834/2834 [==============================] - 0s 145us/step - loss: 0.0139\n",
      "Epoch 7/25\n",
      "2834/2834 [==============================] - 0s 135us/step - loss: 0.0133\n",
      "Epoch 8/25\n",
      "2834/2834 [==============================] - 0s 139us/step - loss: 0.0138\n",
      "Epoch 9/25\n",
      "2834/2834 [==============================] - 0s 140us/step - loss: 0.0124\n",
      "Epoch 10/25\n",
      "2834/2834 [==============================] - 0s 139us/step - loss: 0.0112\n",
      "Epoch 11/25\n",
      "2834/2834 [==============================] - 0s 143us/step - loss: 0.0111\n",
      "Epoch 12/25\n",
      "2834/2834 [==============================] - 0s 143us/step - loss: 0.0117\n",
      "Epoch 13/25\n",
      "2834/2834 [==============================] - 0s 153us/step - loss: 0.0109\n",
      "Epoch 14/25\n",
      "2834/2834 [==============================] - 0s 143us/step - loss: 0.0103\n",
      "Epoch 15/25\n",
      "2834/2834 [==============================] - 0s 146us/step - loss: 0.0105\n",
      "Epoch 16/25\n",
      "2834/2834 [==============================] - 0s 144us/step - loss: 0.0108\n",
      "Epoch 17/25\n",
      "2834/2834 [==============================] - 0s 175us/step - loss: 0.0118\n",
      "Epoch 18/25\n",
      "2834/2834 [==============================] - 0s 143us/step - loss: 0.0102\n",
      "Epoch 19/25\n",
      "2834/2834 [==============================] - 0s 169us/step - loss: 0.0110\n",
      "Epoch 20/25\n",
      "2834/2834 [==============================] - 0s 150us/step - loss: 0.0111\n",
      "Epoch 21/25\n",
      "2834/2834 [==============================] - 0s 149us/step - loss: 0.0101\n",
      "Epoch 22/25\n",
      "2834/2834 [==============================] - 0s 144us/step - loss: 0.0102\n",
      "Epoch 23/25\n",
      "2834/2834 [==============================] - 0s 146us/step - loss: 0.0098\n",
      "Epoch 24/25\n",
      "2834/2834 [==============================] - 0s 143us/step - loss: 0.0096\n",
      "Epoch 25/25\n",
      "2834/2834 [==============================] - 0s 147us/step - loss: 0.0106\n"
     ]
    }
   ],
   "source": [
    "hist = model.fit([q_vectors, path_vectors],np.zeros(q_vectors.shape[0]),\n",
    "                 epochs=25, batch_size=64)"
   ]
  },
  {
   "cell_type": "code",
   "execution_count": 36,
   "metadata": {},
   "outputs": [],
   "source": [
    "q_model = Model(inputs=[model.get_layer(\"QInput\").input], \n",
    "                outputs=[model.get_layer(\"QL2norm\").output])\n",
    "\n",
    "aPath_model = Model(inputs=[model.get_layer(\"AInput\").input], \n",
    "                outputs=[model.get_layer(\"AL2norm\").output])"
   ]
  },
  {
   "cell_type": "code",
   "execution_count": 37,
   "metadata": {},
   "outputs": [],
   "source": [
    "answers_predicted = aPath_model.predict(path_vectors)\n",
    "questions_predicted = q_model.predict(q_vectors)"
   ]
  },
  {
   "cell_type": "code",
   "execution_count": 38,
   "metadata": {},
   "outputs": [
    {
     "data": {
      "text/plain": [
       "NearestNeighbors(algorithm='kd_tree', leaf_size=30, metric='minkowski',\n",
       "         metric_params=None, n_jobs=-1, n_neighbors=5, p=2, radius=1.0)"
      ]
     },
     "execution_count": 38,
     "metadata": {},
     "output_type": "execute_result"
    }
   ],
   "source": [
    "knn = NearestNeighbors(n_neighbors=5, \n",
    "                 metric=\"minkowski\", \n",
    "                 p=2, \n",
    "                 n_jobs=-1, \n",
    "                 algorithm=\"kd_tree\")\n",
    "knn.fit(answers_predicted)"
   ]
  },
  {
   "cell_type": "code",
   "execution_count": 50,
   "metadata": {},
   "outputs": [
    {
     "data": {
      "text/plain": [
       "(array([[0.58197917, 0.58197917, 0.58197917, 0.58197917, 0.58197917]]),\n",
       " array([[ 660, 2769,   10,  272, 2143]]))"
      ]
     },
     "execution_count": 50,
     "metadata": {},
     "output_type": "execute_result"
    }
   ],
   "source": [
    "knn.kneighbors(np.array([questions_predicted[10]]), n_neighbors=5)"
   ]
  },
  {
   "cell_type": "code",
   "execution_count": 49,
   "metadata": {},
   "outputs": [
    {
     "data": {
      "text/plain": [
       "'which countries border the us'"
      ]
     },
     "execution_count": 49,
     "metadata": {},
     "output_type": "execute_result"
    }
   ],
   "source": [
    "questions[10]"
   ]
  },
  {
   "cell_type": "code",
   "execution_count": 51,
   "metadata": {},
   "outputs": [
    {
     "data": {
      "text/plain": [
       "'/location/location/adjoin_s /location/adjoining_relationship/adjoins '"
      ]
     },
     "execution_count": 51,
     "metadata": {},
     "output_type": "execute_result"
    }
   ],
   "source": [
    "rels[660]"
   ]
  },
  {
   "cell_type": "code",
   "execution_count": null,
   "metadata": {},
   "outputs": [],
   "source": []
  }
 ],
 "metadata": {
  "kernelspec": {
   "display_name": "Python 3",
   "language": "python",
   "name": "python3"
  },
  "language_info": {
   "codemirror_mode": {
    "name": "ipython",
    "version": 3
   },
   "file_extension": ".py",
   "mimetype": "text/x-python",
   "name": "python",
   "nbconvert_exporter": "python",
   "pygments_lexer": "ipython3",
   "version": "3.6.4"
  }
 },
 "nbformat": 4,
 "nbformat_minor": 2
}
