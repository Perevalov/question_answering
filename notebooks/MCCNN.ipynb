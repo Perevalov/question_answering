{
 "cells": [
  {
   "cell_type": "markdown",
   "metadata": {},
   "source": [
    "## Импортим необходимые библиотеки"
   ]
  },
  {
   "cell_type": "code",
   "execution_count": 1,
   "metadata": {},
   "outputs": [
    {
     "name": "stderr",
     "output_type": "stream",
     "text": [
      "/home/alex/miniconda3/lib/python3.6/importlib/_bootstrap.py:219: RuntimeWarning: numpy.dtype size changed, may indicate binary incompatibility. Expected 96, got 88\n",
      "  return f(*args, **kwds)\n",
      "/home/alex/miniconda3/lib/python3.6/importlib/_bootstrap.py:219: RuntimeWarning: numpy.dtype size changed, may indicate binary incompatibility. Expected 96, got 88\n",
      "  return f(*args, **kwds)\n",
      "/home/alex/miniconda3/lib/python3.6/site-packages/h5py/__init__.py:36: FutureWarning: Conversion of the second argument of issubdtype from `float` to `np.floating` is deprecated. In future, it will be treated as `np.float64 == np.dtype(float).type`.\n",
      "  from ._conv import register_converters as _register_converters\n",
      "Using TensorFlow backend.\n"
     ]
    }
   ],
   "source": [
    "import pandas as pd\n",
    "import json, re, os, unidecode\n",
    "\n",
    "from gensim.models import Word2Vec\n",
    "\n",
    "from sklearn.feature_extraction.text import CountVectorizer\n",
    "\n",
    "from keras.models import Model\n",
    "from keras.layers import Dense, Conv1D, GlobalMaxPooling1D, Embedding, Input, Lambda, Add\n",
    "from keras.utils.vis_utils import plot_model\n",
    "import keras.backend as K\n",
    "\n",
    "from keras.preprocessing.text import Tokenizer\n",
    "from keras.preprocessing.sequence import pad_sequences\n",
    "\n",
    "import matplotlib.pyplot as plt\n",
    "\n",
    "import tensorflow as tf\n",
    "\n",
    "import numpy as np\n",
    "\n",
    "from sklearn.neighbors import NearestNeighbors\n",
    "\n",
    "embeddings_dim = 50"
   ]
  },
  {
   "cell_type": "markdown",
   "metadata": {},
   "source": [
    "## Анализируем графовые данные"
   ]
  },
  {
   "cell_type": "code",
   "execution_count": 2,
   "metadata": {},
   "outputs": [],
   "source": [
    "data = ''\n",
    "with open('../data/d-freebase-rp/trainmodel.json') as json_file:  \n",
    "    data = json.load(json_file)"
   ]
  },
  {
   "cell_type": "code",
   "execution_count": 3,
   "metadata": {},
   "outputs": [],
   "source": [
    "rels_qId = []\n",
    "rels_relPaths = []\n",
    "\n",
    "for d in data:\n",
    "    rels_qId.append(d['qId'])\n",
    "    rels_relPaths.append(json.dumps(d['relPaths']))"
   ]
  },
  {
   "cell_type": "code",
   "execution_count": 4,
   "metadata": {},
   "outputs": [],
   "source": [
    "rels_df = pd.DataFrame(\n",
    "    {\n",
    "    'qId': rels_qId,\n",
    "    'relPaths': rels_relPaths\n",
    "    })"
   ]
  },
  {
   "cell_type": "code",
   "execution_count": 5,
   "metadata": {},
   "outputs": [],
   "source": [
    "main = ''\n",
    "with open('../data/main/trainmodel.json') as json_file:  \n",
    "    main = json.load(json_file)"
   ]
  },
  {
   "cell_type": "code",
   "execution_count": 6,
   "metadata": {},
   "outputs": [],
   "source": [
    "main_qId = []\n",
    "main_answers = []\n",
    "main_qText = []\n",
    "\n",
    "for d in main:\n",
    "    main_qId.append(d['qId'])\n",
    "    main_answers.append(json.dumps(d['answers']))\n",
    "    main_qText.append(d['qText'])"
   ]
  },
  {
   "cell_type": "code",
   "execution_count": 7,
   "metadata": {},
   "outputs": [],
   "source": [
    "main_df = pd.DataFrame(\n",
    "    {\n",
    "    'qId': main_qId,\n",
    "    'answers': main_answers,\n",
    "    'qText': main_qText\n",
    "    })\n",
    "#смержить 2 вышесделанных датафрейма и для каждого вопроса сгенерить вектор relPaths и answers"
   ]
  },
  {
   "cell_type": "code",
   "execution_count": 8,
   "metadata": {},
   "outputs": [],
   "source": [
    "merged_df = main_df.merge(rels_df,on='qId')"
   ]
  },
  {
   "cell_type": "code",
   "execution_count": 9,
   "metadata": {},
   "outputs": [
    {
     "data": {
      "text/html": [
       "<div>\n",
       "<style scoped>\n",
       "    .dataframe tbody tr th:only-of-type {\n",
       "        vertical-align: middle;\n",
       "    }\n",
       "\n",
       "    .dataframe tbody tr th {\n",
       "        vertical-align: top;\n",
       "    }\n",
       "\n",
       "    .dataframe thead th {\n",
       "        text-align: right;\n",
       "    }\n",
       "</style>\n",
       "<table border=\"1\" class=\"dataframe\">\n",
       "  <thead>\n",
       "    <tr style=\"text-align: right;\">\n",
       "      <th></th>\n",
       "      <th>answers</th>\n",
       "      <th>qId</th>\n",
       "      <th>qText</th>\n",
       "      <th>relPaths</th>\n",
       "    </tr>\n",
       "  </thead>\n",
       "  <tbody>\n",
       "    <tr>\n",
       "      <th>0</th>\n",
       "      <td>[\"Padm\\u00e9 Amidala\"]</td>\n",
       "      <td>wqr000001</td>\n",
       "      <td>what character did natalie portman play in sta...</td>\n",
       "      <td>[[[\"/film/actor/film\", \"/film/performance/char...</td>\n",
       "    </tr>\n",
       "    <tr>\n",
       "      <th>1</th>\n",
       "      <td>[\"New York City\"]</td>\n",
       "      <td>wqr000002</td>\n",
       "      <td>what state does selena gomez?</td>\n",
       "      <td>[[[\"/people/person/places_lived\", \"/people/pla...</td>\n",
       "    </tr>\n",
       "    <tr>\n",
       "      <th>2</th>\n",
       "      <td>[\"Bahamas\"]</td>\n",
       "      <td>wqr000003</td>\n",
       "      <td>what country is the grand bahama island in?</td>\n",
       "      <td>[[[\"/location/location/containedby\"], 1]]</td>\n",
       "    </tr>\n",
       "    <tr>\n",
       "      <th>3</th>\n",
       "      <td>[\"Denethor II\"]</td>\n",
       "      <td>wqr000005</td>\n",
       "      <td>what character did john noble play in lord of ...</td>\n",
       "      <td>[[[\"/film/actor/film\", \"/film/performance/char...</td>\n",
       "    </tr>\n",
       "    <tr>\n",
       "      <th>4</th>\n",
       "      <td>[\"Chicago Bulls\"]</td>\n",
       "      <td>wqr000006</td>\n",
       "      <td>who does joakim noah play for?</td>\n",
       "      <td>[[[\"/basketball/basketball_player/player_stati...</td>\n",
       "    </tr>\n",
       "  </tbody>\n",
       "</table>\n",
       "</div>"
      ],
      "text/plain": [
       "                  answers        qId  \\\n",
       "0  [\"Padm\\u00e9 Amidala\"]  wqr000001   \n",
       "1       [\"New York City\"]  wqr000002   \n",
       "2             [\"Bahamas\"]  wqr000003   \n",
       "3         [\"Denethor II\"]  wqr000005   \n",
       "4       [\"Chicago Bulls\"]  wqr000006   \n",
       "\n",
       "                                               qText  \\\n",
       "0  what character did natalie portman play in sta...   \n",
       "1                      what state does selena gomez?   \n",
       "2        what country is the grand bahama island in?   \n",
       "3  what character did john noble play in lord of ...   \n",
       "4                     who does joakim noah play for?   \n",
       "\n",
       "                                            relPaths  \n",
       "0  [[[\"/film/actor/film\", \"/film/performance/char...  \n",
       "1  [[[\"/people/person/places_lived\", \"/people/pla...  \n",
       "2          [[[\"/location/location/containedby\"], 1]]  \n",
       "3  [[[\"/film/actor/film\", \"/film/performance/char...  \n",
       "4  [[[\"/basketball/basketball_player/player_stati...  "
      ]
     },
     "execution_count": 9,
     "metadata": {},
     "output_type": "execute_result"
    }
   ],
   "source": [
    "merged_df.head()"
   ]
  },
  {
   "cell_type": "code",
   "execution_count": 10,
   "metadata": {},
   "outputs": [],
   "source": [
    "answers_dict = {}\n",
    "\n",
    "for index,row in merged_df.iterrows():\n",
    "    answ = json.loads(row['answers'])\n",
    "    answ_true = []\n",
    "    for a in answ:\n",
    "        exists = os.path.isfile('../data/answer-entities/{0}.txt'.format(unidecode.unidecode(a)))\n",
    "        if exists:\n",
    "            with open('../data/answer-entities/{0}.txt'.format(unidecode.unidecode(a))) as f:\n",
    "                answ_true += f.readlines()\n",
    "    if len(answ_true) > 0:\n",
    "        answers_dict[row['qId']] = list(answ_true)[:200]"
   ]
  },
  {
   "cell_type": "code",
   "execution_count": 11,
   "metadata": {},
   "outputs": [
    {
     "data": {
      "text/plain": [
       "['http://rdf.freebase.com/ns/common.topic\\n',\n",
       " 'http://rdf.freebase.com/ns/film.film_character\\n']"
      ]
     },
     "execution_count": 11,
     "metadata": {},
     "output_type": "execute_result"
    }
   ],
   "source": [
    "answers_dict['wqr000005'][:2]"
   ]
  },
  {
   "cell_type": "code",
   "execution_count": 12,
   "metadata": {},
   "outputs": [],
   "source": [
    "rels_dict = {}\n",
    "\n",
    "for index,row in merged_df.iterrows():\n",
    "    if row['qId'] in list(answers_dict.keys()):\n",
    "        rls = json.loads(row['relPaths'])\n",
    "        rls_true = []\n",
    "        for rr in rls:\n",
    "            for r in rr[0]:\n",
    "                rls_true.append(r)\n",
    "\n",
    "        rels_dict[row['qId']] = rls_true"
   ]
  },
  {
   "cell_type": "code",
   "execution_count": 13,
   "metadata": {},
   "outputs": [
    {
     "data": {
      "text/plain": [
       "0"
      ]
     },
     "execution_count": 13,
     "metadata": {},
     "output_type": "execute_result"
    }
   ],
   "source": [
    "len(list(answers_dict.keys())) - len(list(rels_dict.keys()))"
   ]
  },
  {
   "cell_type": "code",
   "execution_count": 14,
   "metadata": {},
   "outputs": [],
   "source": [
    "answrs = []\n",
    "rels = []\n",
    "\n",
    "for key in list(answers_dict.keys()):\n",
    "    q_answrs = \"\"\n",
    "    q_rels = \"\"\n",
    "    \n",
    "    for paths in rels_dict[key]:\n",
    "        q_rels += paths + \" \"\n",
    "    rels.append(str(q_rels))\n",
    "    \n",
    "    for ans in answers_dict[key]:\n",
    "        q_answrs += ans + \" \"\n",
    "    answrs.append(str(q_answrs))"
   ]
  },
  {
   "cell_type": "code",
   "execution_count": 15,
   "metadata": {},
   "outputs": [
    {
     "data": {
      "text/plain": [
       "['/film/actor/film /film/performance/character ',\n",
       " '/people/person/places_lived /people/place_lived/location ',\n",
       " '/location/location/containedby ',\n",
       " '/film/actor/film /film/performance/character /book/book/characters ',\n",
       " '/basketball/basketball_player/player_statistics /basketball/basketball_player_stats/team /sports/drafted_athlete/drafted /sports/sports_league_draft_pick/team /sports/pro_athlete/teams /sports/sports_team_roster/team /sports/sports_award_winner/awards /sports/sports_award/team ']"
      ]
     },
     "execution_count": 15,
     "metadata": {},
     "output_type": "execute_result"
    }
   ],
   "source": [
    "rels[:5]"
   ]
  },
  {
   "cell_type": "code",
   "execution_count": 16,
   "metadata": {},
   "outputs": [
    {
     "name": "stdout",
     "output_type": "stream",
     "text": [
      "Количество уникальных связей = 626\n",
      "Размерность матрицы связей = (2756, 626)\n"
     ]
    }
   ],
   "source": [
    "rels_vectorizer = CountVectorizer(token_pattern=r\"[^\\s]*\")\n",
    "path_vectors = rels_vectorizer.fit_transform(rels)\n",
    "n_unique_relations = len(rels_vectorizer.vocabulary_)\n",
    "print(\"Количество уникальных связей = {0}\".format(n_unique_relations))\n",
    "print(\"Размерность матрицы связей = {0}\".format(path_vectors.shape))"
   ]
  },
  {
   "cell_type": "code",
   "execution_count": 17,
   "metadata": {},
   "outputs": [
    {
     "name": "stdout",
     "output_type": "stream",
     "text": [
      "Количество уникальных сущностей = 90704\n",
      "Размерность матрицы связей = (2756, 90704)\n"
     ]
    }
   ],
   "source": [
    "answ_vectorizer = CountVectorizer(token_pattern=r\"[^\\s]*\")\n",
    "answ_vectors = answ_vectorizer.fit_transform(answrs)\n",
    "n_unique_entities = len(answ_vectorizer.vocabulary_)\n",
    "print(\"Количество уникальных сущностей = {0}\".format(n_unique_entities))\n",
    "print(\"Размерность матрицы связей = {0}\".format(answ_vectors.shape))"
   ]
  },
  {
   "cell_type": "markdown",
   "metadata": {},
   "source": [
    "## Читаем вопросы из файла"
   ]
  },
  {
   "cell_type": "code",
   "execution_count": 18,
   "metadata": {},
   "outputs": [],
   "source": [
    "q_data = []\n",
    "with open('../data/main/trainmodel.json') as json_file:  \n",
    "    q_data = json.load(json_file)\n",
    "    \n",
    "questions = []\n",
    "for q in q_data:\n",
    "    if q['qId'] in list(answers_dict.keys()):\n",
    "        questions.append(re.sub('[!@#$?]', '', q[\"qText\"]))"
   ]
  },
  {
   "cell_type": "markdown",
   "metadata": {},
   "source": [
    "## Анализируем текстовые данные"
   ]
  },
  {
   "cell_type": "code",
   "execution_count": 19,
   "metadata": {},
   "outputs": [
    {
     "name": "stdout",
     "output_type": "stream",
     "text": [
      "3110 уникальных токенов.\n"
     ]
    }
   ],
   "source": [
    "tokenizer = Tokenizer()\n",
    "tokenizer.fit_on_texts(questions)\n",
    "\n",
    "sequences = tokenizer.texts_to_sequences(questions)\n",
    "sequences_lenghts = np.array(list(map(lambda x: len(x), sequences)))\n",
    "\n",
    "word_index = tokenizer.word_index\n",
    "number_of_words = len(word_index)\n",
    "print('{0} уникальных токенов.'.format(len(word_index)))"
   ]
  },
  {
   "cell_type": "code",
   "execution_count": 20,
   "metadata": {},
   "outputs": [
    {
     "data": {
      "image/png": "[encoded data removed]",
      "text/plain": [
       "<Figure size 1440x576 with 1 Axes>"
      ]
     },
     "metadata": {},
     "output_type": "display_data"
    }
   ],
   "source": [
    "plt.figure(figsize=(20, 8))\n",
    "\n",
    "plt.subplot(121)\n",
    "plt.bar(*np.unique(sequences_lenghts, return_counts=True), edgecolor=\"k\")\n",
    "plt.axvline(np.mean(sequences_lenghts), \n",
    "            c=\"r\", lw=3, \n",
    "            label=\"Средняя длина = {:.2f}\".format(np.mean(sequences_lenghts)))\n",
    "plt.axvline(np.percentile(sequences_lenghts, 95), \n",
    "            c=\"m\", lw=3, \n",
    "            label=\"95%-перцентиль = {:.2f}\".format(np.percentile(sequences_lenghts, 95)))\n",
    "plt.xlabel(\"Длина\")\n",
    "plt.ylabel(\"Количество вопросов\")\n",
    "plt.title(\"Распределение длин вопросов\")\n",
    "plt.legend()\n",
    "\n",
    "cut_length = np.round(np.percentile(sequences_lenghts, 95),0)"
   ]
  },
  {
   "cell_type": "markdown",
   "metadata": {},
   "source": [
    "## Строим векторные представления вопросов"
   ]
  },
  {
   "cell_type": "code",
   "execution_count": 21,
   "metadata": {},
   "outputs": [
    {
     "name": "stderr",
     "output_type": "stream",
     "text": [
      "/home/alex/miniconda3/lib/python3.6/site-packages/ipykernel_launcher.py:3: DeprecationWarning: Call to deprecated `most_similar` (Method will be removed in 4.0.0, use self.wv.most_similar() instead).\n",
      "  This is separate from the ipykernel package so we can avoid doing imports until\n",
      "/home/alex/miniconda3/lib/python3.6/site-packages/gensim/matutils.py:737: FutureWarning: Conversion of the second argument of issubdtype from `int` to `np.signedinteger` is deprecated. In future, it will be treated as `np.int64 == np.dtype(int).type`.\n",
      "  if np.issubdtype(vec.dtype, np.int):\n"
     ]
    },
    {
     "data": {
      "text/plain": [
       "[('was', 0.6335000395774841),\n",
       " ('are', 0.5170373320579529),\n",
       " ('suit', 0.3929719030857086),\n",
       " ('sith', 0.39094293117523193),\n",
       " ('exists', 0.37071800231933594),\n",
       " ('does', 0.37027475237846375),\n",
       " ('revenge', 0.36400991678237915),\n",
       " ('religions', 0.3586241602897644),\n",
       " ('wallflower', 0.34988218545913696),\n",
       " ('perks', 0.3242698311805725)]"
      ]
     },
     "execution_count": 21,
     "metadata": {},
     "output_type": "execute_result"
    }
   ],
   "source": [
    "model = Word2Vec([q.split() for q in questions], size=embeddings_dim, window=10,min_count=1)\n",
    "model.train([q.split() for q in questions],epochs=1000,total_examples=model.corpus_count)\n",
    "model.most_similar(\"is\")"
   ]
  },
  {
   "cell_type": "code",
   "execution_count": 22,
   "metadata": {},
   "outputs": [
    {
     "name": "stdout",
     "output_type": "stream",
     "text": [
      "Размерность тренировочных данных: (2756, 9)\n"
     ]
    }
   ],
   "source": [
    "q_vectors = pad_sequences(sequences, maxlen=int(cut_length))\n",
    "print('Размерность тренировочных данных:', q_vectors.shape)"
   ]
  },
  {
   "cell_type": "code",
   "execution_count": 23,
   "metadata": {},
   "outputs": [
    {
     "name": "stderr",
     "output_type": "stream",
     "text": [
      "/home/alex/miniconda3/lib/python3.6/site-packages/ipykernel_launcher.py:4: DeprecationWarning: Call to deprecated `__getitem__` (Method will be removed in 4.0.0, use self.wv.__getitem__() instead).\n",
      "  after removing the cwd from sys.path.\n"
     ]
    }
   ],
   "source": [
    "embedding_matrix = np.zeros((len(word_index) + 1, embeddings_dim))\n",
    "for word, i in word_index.items():\n",
    "    if word in model.wv.vocab:\n",
    "        embedding_matrix[i] = model[word]"
   ]
  },
  {
   "cell_type": "markdown",
   "metadata": {},
   "source": [
    "## Строим модель"
   ]
  },
  {
   "cell_type": "code",
   "execution_count": 24,
   "metadata": {},
   "outputs": [],
   "source": [
    "def L2_norm(x):\n",
    "    return K.l2_normalize(x, axis=1)"
   ]
  },
  {
   "cell_type": "code",
   "execution_count": 25,
   "metadata": {},
   "outputs": [
    {
     "name": "stdout",
     "output_type": "stream",
     "text": [
      "WARNING:tensorflow:From /home/alex/miniconda3/lib/python3.6/site-packages/tensorflow/python/util/deprecation.py:497: calling conv1d (from tensorflow.python.ops.nn_ops) with data_format=NHWC is deprecated and will be removed in a future version.\n",
      "Instructions for updating:\n",
      "`NHWC` for data_format is deprecated, use `NWC` instead\n"
     ]
    }
   ],
   "source": [
    "q1_input = Input(shape=(cut_length,), \n",
    "                dtype=\"int32\", \n",
    "                name=\"QInput\")\n",
    "\n",
    "_embedding_layer = Embedding(input_dim=number_of_words + 1,\n",
    "                             output_dim=embeddings_dim,\n",
    "                             input_length=cut_length,\n",
    "                             weights=[embedding_matrix],\n",
    "                             trainable=True,\n",
    "                             mask_zero=False, \n",
    "                             name=\"Embedding\")\n",
    "\n",
    "_conv1d_layer = Conv1D(embeddings_dim,\n",
    "                       5,\n",
    "                       activation='relu')\n",
    "\n",
    "_maxpool1d_layer = GlobalMaxPooling1D()\n",
    "\n",
    "q1_embedding = _embedding_layer(q1_input)\n",
    "q1_conv = _conv1d_layer(q1_embedding)\n",
    "q1_maxpool = _maxpool1d_layer(q1_conv)\n",
    "q1_normalized = Lambda(function=L2_norm, name=\"QL2norm\")(q1_maxpool)"
   ]
  },
  {
   "cell_type": "code",
   "execution_count": 26,
   "metadata": {},
   "outputs": [],
   "source": [
    "aPath_input = Input(shape=(n_unique_relations,), \n",
    "                dtype=\"float32\", \n",
    "                name=\"APathInput\")\n",
    "\n",
    "_dense_layer = Dense(embeddings_dim, input_dim=n_unique_relations+1, activation='relu')\n",
    "\n",
    "aPath_dense = _dense_layer(aPath_input)"
   ]
  },
  {
   "cell_type": "code",
   "execution_count": 27,
   "metadata": {},
   "outputs": [],
   "source": [
    "aEntity_input = Input(shape=(n_unique_entities,), \n",
    "                dtype=\"float32\", \n",
    "                name=\"AEntityInput\")\n",
    "\n",
    "_dense_layer_entity = Dense(embeddings_dim, input_dim=n_unique_entities+1, activation='relu')\n",
    "\n",
    "aEntity_dense = _dense_layer_entity(aEntity_input)"
   ]
  },
  {
   "cell_type": "code",
   "execution_count": 28,
   "metadata": {},
   "outputs": [],
   "source": [
    "added = Add()([aPath_dense, aEntity_dense])"
   ]
  },
  {
   "cell_type": "code",
   "execution_count": 29,
   "metadata": {},
   "outputs": [],
   "source": [
    "_normalized = Lambda(function=L2_norm, name=\"AL2norm\")(added)"
   ]
  },
  {
   "cell_type": "code",
   "execution_count": 30,
   "metadata": {},
   "outputs": [],
   "source": [
    "def triplet_loss(args):\n",
    "    \n",
    "    q, a = args\n",
    "    \n",
    "    def _get_probs():\n",
    "        # easy negative sampling, i.e. take random from batch\n",
    "        batch_size = tf.shape(a)[0]\n",
    "        probs = tf.ones((batch_size, batch_size)) - tf.eye(batch_size, batch_size)\n",
    "        return probs\n",
    "    \n",
    "    def _get_distance(batch1, batch2):\n",
    "        return 1 - tf.reduce_sum(tf.multiply(batch1, batch2), axis=1)\n",
    "    \n",
    "    # margin\n",
    "    alpha = 0.2\n",
    "    \n",
    "    # negative sampling\n",
    "    probs = _get_probs()\n",
    "    probs /= tf.reduce_sum(probs, axis=1)\n",
    "    \n",
    "    negative_idxs = tf.multinomial(tf.log(probs), 1)\n",
    "    negs = tf.gather(a, negative_idxs)[:, 0]\n",
    "    \n",
    "    # distance calculation\n",
    "    Dn = _get_distance(q, negs)\n",
    "    Dp = _get_distance(q, a)\n",
    "    \n",
    "    # loss\n",
    "    loss = tf.reduce_mean(tf.maximum(0.0, Dp - Dn + alpha))\n",
    "    \n",
    "    return loss"
   ]
  },
  {
   "cell_type": "code",
   "execution_count": 31,
   "metadata": {},
   "outputs": [],
   "source": [
    "loss_layer = Lambda(function=triplet_loss, name=\"Loss\")([q1_normalized, _normalized])"
   ]
  },
  {
   "cell_type": "code",
   "execution_count": 32,
   "metadata": {},
   "outputs": [],
   "source": [
    "model = Model(inputs=[q1_input, aPath_input, aEntity_input], outputs=[loss_layer])"
   ]
  },
  {
   "cell_type": "code",
   "execution_count": 33,
   "metadata": {},
   "outputs": [],
   "source": [
    "def dummy_loss(y_true, y_pred):\n",
    "    return y_pred"
   ]
  },
  {
   "cell_type": "code",
   "execution_count": 34,
   "metadata": {},
   "outputs": [
    {
     "name": "stdout",
     "output_type": "stream",
     "text": [
      "__________________________________________________________________________________________________\n",
      "Layer (type)                    Output Shape         Param #     Connected to                     \n",
      "==================================================================================================\n",
      "QInput (InputLayer)             (None, 9.0)          0                                            \n",
      "__________________________________________________________________________________________________\n",
      "Embedding (Embedding)           (None, 9.0, 50)      155550      QInput[0][0]                     \n",
      "__________________________________________________________________________________________________\n",
      "APathInput (InputLayer)         (None, 626)          0                                            \n",
      "__________________________________________________________________________________________________\n",
      "AEntityInput (InputLayer)       (None, 90704)        0                                            \n",
      "__________________________________________________________________________________________________\n",
      "conv1d_1 (Conv1D)               (None, 5.0, 50)      12550       Embedding[0][0]                  \n",
      "__________________________________________________________________________________________________\n",
      "dense_1 (Dense)                 (None, 50)           31350       APathInput[0][0]                 \n",
      "__________________________________________________________________________________________________\n",
      "dense_2 (Dense)                 (None, 50)           4535250     AEntityInput[0][0]               \n",
      "__________________________________________________________________________________________________\n",
      "global_max_pooling1d_1 (GlobalM (None, 50)           0           conv1d_1[0][0]                   \n",
      "__________________________________________________________________________________________________\n",
      "add_1 (Add)                     (None, 50)           0           dense_1[0][0]                    \n",
      "                                                                 dense_2[0][0]                    \n",
      "__________________________________________________________________________________________________\n",
      "QL2norm (Lambda)                (None, 50)           0           global_max_pooling1d_1[0][0]     \n",
      "__________________________________________________________________________________________________\n",
      "AL2norm (Lambda)                (None, 50)           0           add_1[0][0]                      \n",
      "__________________________________________________________________________________________________\n",
      "Loss (Lambda)                   ()                   0           QL2norm[0][0]                    \n",
      "                                                                 AL2norm[0][0]                    \n",
      "==================================================================================================\n",
      "Total params: 4,734,700\n",
      "Trainable params: 4,734,700\n",
      "Non-trainable params: 0\n",
      "__________________________________________________________________________________________________\n"
     ]
    }
   ],
   "source": [
    "model.compile(loss=dummy_loss, optimizer=\"Adam\")\n",
    "model.summary()"
   ]
  },
  {
   "cell_type": "code",
   "execution_count": 35,
   "metadata": {},
   "outputs": [],
   "source": [
    "plot_model(model, to_file='model_plot.png', show_shapes=True, show_layer_names=True)"
   ]
  },
  {
   "cell_type": "markdown",
   "metadata": {},
   "source": [
    "## Обучаем модель"
   ]
  },
  {
   "cell_type": "code",
   "execution_count": 36,
   "metadata": {},
   "outputs": [
    {
     "name": "stderr",
     "output_type": "stream",
     "text": [
      "/home/alex/miniconda3/lib/python3.6/site-packages/tensorflow/python/ops/gradients_impl.py:98: UserWarning: Converting sparse IndexedSlices to a dense Tensor of unknown shape. This may consume a large amount of memory.\n",
      "  \"Converting sparse IndexedSlices to a dense Tensor of unknown shape. \"\n"
     ]
    },
    {
     "name": "stdout",
     "output_type": "stream",
     "text": [
      "Epoch 1/25\n",
      "2756/2756 [==============================] - 6s 2ms/step - loss: 0.1589\n",
      "Epoch 2/25\n",
      "2756/2756 [==============================] - 6s 2ms/step - loss: 0.0657\n",
      "Epoch 3/25\n",
      "2756/2756 [==============================] - 6s 2ms/step - loss: 0.0429\n",
      "Epoch 4/25\n",
      "2756/2756 [==============================] - 7s 3ms/step - loss: 0.0315\n",
      "Epoch 5/25\n",
      "2756/2756 [==============================] - 8s 3ms/step - loss: 0.0246\n",
      "Epoch 6/25\n",
      "2756/2756 [==============================] - 7s 2ms/step - loss: 0.0213\n",
      "Epoch 7/25\n",
      "2756/2756 [==============================] - 8s 3ms/step - loss: 0.0189\n",
      "Epoch 8/25\n",
      "2756/2756 [==============================] - 6s 2ms/step - loss: 0.0181\n",
      "Epoch 9/25\n",
      "2756/2756 [==============================] - 6s 2ms/step - loss: 0.0150\n",
      "Epoch 10/25\n",
      "2756/2756 [==============================] - 6s 2ms/step - loss: 0.0153\n",
      "Epoch 11/25\n",
      "2756/2756 [==============================] - 6s 2ms/step - loss: 0.0155\n",
      "Epoch 12/25\n",
      "2756/2756 [==============================] - 6s 2ms/step - loss: 0.0152\n",
      "Epoch 13/25\n",
      "2756/2756 [==============================] - 6s 2ms/step - loss: 0.0139\n",
      "Epoch 14/25\n",
      "2756/2756 [==============================] - 6s 2ms/step - loss: 0.0111\n",
      "Epoch 15/25\n",
      "2756/2756 [==============================] - 6s 2ms/step - loss: 0.0135\n",
      "Epoch 16/25\n",
      "2756/2756 [==============================] - 6s 2ms/step - loss: 0.0123\n",
      "Epoch 17/25\n",
      "2756/2756 [==============================] - 6s 2ms/step - loss: 0.0112\n",
      "Epoch 18/25\n",
      "2756/2756 [==============================] - 6s 2ms/step - loss: 0.0102\n",
      "Epoch 19/25\n",
      "2756/2756 [==============================] - 6s 2ms/step - loss: 0.0088\n",
      "Epoch 20/25\n",
      "2756/2756 [==============================] - 6s 2ms/step - loss: 0.0088\n",
      "Epoch 21/25\n",
      "2756/2756 [==============================] - 7s 2ms/step - loss: 0.0091\n",
      "Epoch 22/25\n",
      "2756/2756 [==============================] - 6s 2ms/step - loss: 0.0087\n",
      "Epoch 23/25\n",
      "2756/2756 [==============================] - 6s 2ms/step - loss: 0.0084\n",
      "Epoch 24/25\n",
      "2756/2756 [==============================] - 6s 2ms/step - loss: 0.0077\n",
      "Epoch 25/25\n",
      "2756/2756 [==============================] - 6s 2ms/step - loss: 0.0082\n"
     ]
    }
   ],
   "source": [
    "hist = model.fit([q_vectors, path_vectors,answ_vectors],np.zeros(q_vectors.shape[0]),\n",
    "                 epochs=25, batch_size=64)"
   ]
  },
  {
   "cell_type": "code",
   "execution_count": 39,
   "metadata": {},
   "outputs": [],
   "source": [
    "q_model = Model(inputs=[model.get_layer(\"QInput\").input], \n",
    "                outputs=[model.get_layer(\"QL2norm\").output])\n",
    "\n",
    "a_model = Model(inputs=[model.get_layer(\"APathInput\").input,model.get_layer(\"AEntityInput\").input], \n",
    "                outputs=[model.get_layer(\"AL2norm\").output])"
   ]
  },
  {
   "cell_type": "code",
   "execution_count": 41,
   "metadata": {},
   "outputs": [],
   "source": [
    "answers_predicted = a_model.predict([path_vectors,answ_vectors])\n",
    "questions_predicted = q_model.predict(q_vectors)"
   ]
  },
  {
   "cell_type": "code",
   "execution_count": 42,
   "metadata": {},
   "outputs": [
    {
     "data": {
      "text/plain": [
       "NearestNeighbors(algorithm='kd_tree', leaf_size=30, metric='minkowski',\n",
       "         metric_params=None, n_jobs=-1, n_neighbors=5, p=2, radius=1.0)"
      ]
     },
     "execution_count": 42,
     "metadata": {},
     "output_type": "execute_result"
    }
   ],
   "source": [
    "knn = NearestNeighbors(n_neighbors=5, \n",
    "                 metric=\"minkowski\", \n",
    "                 p=2, \n",
    "                 n_jobs=-1, \n",
    "                 algorithm=\"kd_tree\")\n",
    "knn.fit(answers_predicted)"
   ]
  },
  {
   "cell_type": "code",
   "execution_count": 43,
   "metadata": {},
   "outputs": [
    {
     "data": {
      "text/plain": [
       "(array([[0.44834235, 0.44834235, 0.44834235, 0.44834235, 0.47049035]]),\n",
       " array([[1793,  618,   10,  836, 1388]]))"
      ]
     },
     "execution_count": 43,
     "metadata": {},
     "output_type": "execute_result"
    }
   ],
   "source": [
    "knn.kneighbors(np.array([questions_predicted[10]]), n_neighbors=5)"
   ]
  },
  {
   "cell_type": "code",
   "execution_count": 44,
   "metadata": {},
   "outputs": [
    {
     "data": {
      "text/plain": [
       "'which countries border the us'"
      ]
     },
     "execution_count": 44,
     "metadata": {},
     "output_type": "execute_result"
    }
   ],
   "source": [
    "questions[10]"
   ]
  },
  {
   "cell_type": "code",
   "execution_count": 48,
   "metadata": {},
   "outputs": [
    {
     "data": {
      "text/plain": [
       "'/location/location/adjoin_s /location/adjoining_relationship/adjoins '"
      ]
     },
     "execution_count": 48,
     "metadata": {},
     "output_type": "execute_result"
    }
   ],
   "source": [
    "rels[1793]"
   ]
  },
  {
   "cell_type": "markdown",
   "metadata": {},
   "source": [
    "### Обратный маппинг индекса к ответу"
   ]
  },
  {
   "cell_type": "code",
   "execution_count": null,
   "metadata": {},
   "outputs": [],
   "source": []
  }
 ],
 "metadata": {
  "kernelspec": {
   "display_name": "Python 3",
   "language": "python",
   "name": "python3"
  },
  "language_info": {
   "codemirror_mode": {
    "name": "ipython",
    "version": 3
   },
   "file_extension": ".py",
   "mimetype": "text/x-python",
   "name": "python",
   "nbconvert_exporter": "python",
   "pygments_lexer": "ipython3",
   "version": "3.6.4"
  }
 },
 "nbformat": 4,
 "nbformat_minor": 2
}
